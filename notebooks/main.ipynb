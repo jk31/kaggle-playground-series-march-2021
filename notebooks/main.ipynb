{
 "cells": [
  {
   "cell_type": "markdown",
   "id": "apart-context",
   "metadata": {
    "heading_collapsed": "true",
    "tags": []
   },
   "source": [
    "# Notes"
   ]
  },
  {
   "cell_type": "markdown",
   "id": "short-massachusetts",
   "metadata": {},
   "source": [
    "Source: https://www.kaggle.com/c/tabular-playground-series-mar-2021\n",
    "\n",
    ">Submissions are evaluated on area under the ROC curve between the predicted probability and the observed target.\n",
    "* https://en.wikipedia.org/wiki/Receiver_operating_characteristic\n",
    "* `clf.predict_proba(test)[:, 1]`\n",
    "\n",
    "---\n",
    "\n",
    "* Cat1 - Cat10 have many categories\n",
    "* Cont5 is weird\n",
    "* target class \"1\" makes only 24%\n",
    "* think how to combine models\n",
    "* make pipeline (read the medium article about best practice)\n",
    "```python\n",
    "regression = Pipeline(\n",
    "    steps=[(\"preprocessor\", preprocessor), (\"regression\", LinearRegression())]\n",
    ")\n",
    "regression.fit(X_train, y_train)\n",
    "```\n",
    "* read the \"sklearn pitfalls\"\n",
    "\n",
    "---\n",
    "| Model | Optimization | Test AUC | Kaggle AUC | Notes |\n",
    "| --- | --- | --- | --- | --- |\n",
    "| LogisticRegression | N | 0.7707 | 0.87 | problems with predicting the underrepresented class \"1\" |\n",
    "| LogisticRegression | Y | 0.803 | 0.87 | balanced weights improve test AUC |"
   ]
  },
  {
   "cell_type": "markdown",
   "id": "boxed-stone",
   "metadata": {
    "tags": []
   },
   "source": [
    "# Libraries and helper functions"
   ]
  },
  {
   "cell_type": "code",
   "execution_count": 1,
   "id": "subtle-webcam",
   "metadata": {},
   "outputs": [],
   "source": [
    "import math\n",
    "\n",
    "import numpy as np\n",
    "import pandas as pd\n",
    "\n",
    "import matplotlib as mpl\n",
    "import matplotlib.pyplot as plt\n",
    "import seaborn as sns\n",
    "%matplotlib inline\n",
    "plt.style.use('seaborn-whitegrid')\n",
    "\n",
    "import scikitplot as skplt\n",
    "\n",
    "from sklearn.pipeline import Pipeline\n",
    "from sklearn.compose import ColumnTransformer, make_column_selector\n",
    "from sklearn.preprocessing import StandardScaler, OneHotEncoder\n",
    "from sklearn.feature_selection import SelectKBest, chi2, f_classif\n",
    "from sklearn.model_selection import train_test_split, GridSearchCV\n",
    "\n",
    "from sklearn.metrics import roc_curve, auc, confusion_matrix, plot_confusion_matrix, plot_roc_curve\n",
    "\n",
    "from sklearn.linear_model import LogisticRegression, SGDClassifier\n",
    "from sklearn.tree import DecisionTreeClassifier\n",
    "\n",
    "import tensorflow as tf\n",
    "from tensorflow import keras\n",
    "from tensorflow.keras import layers"
   ]
  },
  {
   "cell_type": "code",
   "execution_count": 2,
   "id": "bigger-offense",
   "metadata": {},
   "outputs": [],
   "source": [
    "import datetime\n",
    "def timestamp():\n",
    "    time = f\"{datetime.datetime.now().date()}--{datetime.datetime.now().time().replace(microsecond=0)}\"\n",
    "    return time.replace(\":\", \"-\")"
   ]
  },
  {
   "cell_type": "code",
   "execution_count": 3,
   "id": "legitimate-luxembourg",
   "metadata": {
    "tags": []
   },
   "outputs": [],
   "source": [
    "def print_auc(model):\n",
    "    global X_train\n",
    "    global y_train\n",
    "    global X_test\n",
    "    global y_test\n",
    "    \n",
    "    y_train_pred = model.predict(X_train)\n",
    "    y_test_pred = model.predict(X_test)\n",
    "    \n",
    "    fpr, tpr, threshold = roc_curve(y_train, y_train_pred)\n",
    "    roc_auc = auc(fpr, tpr)\n",
    "    print(\"Training AUC:\", roc_auc)\n",
    "\n",
    "    fpr, tpr, threshold = roc_curve(y_test, y_test_pred)\n",
    "    roc_auc = auc(fpr, tpr)\n",
    "    print(\"Test AUC:\", roc_auc)"
   ]
  },
  {
   "cell_type": "markdown",
   "id": "acute-adams",
   "metadata": {
    "tags": []
   },
   "source": [
    "# Load and Wrangle"
   ]
  },
  {
   "cell_type": "code",
   "execution_count": 4,
   "id": "continental-shakespeare",
   "metadata": {},
   "outputs": [],
   "source": [
    "df = pd.read_csv(\"../data/train.csv\")\n",
    "df = df.drop(columns=[\"id\"])"
   ]
  },
  {
   "cell_type": "code",
   "execution_count": null,
   "id": "human-tract",
   "metadata": {
    "tags": []
   },
   "outputs": [],
   "source": [
    "df.info()"
   ]
  },
  {
   "cell_type": "code",
   "execution_count": null,
   "id": "improving-construction",
   "metadata": {},
   "outputs": [],
   "source": [
    "df.describe()"
   ]
  },
  {
   "cell_type": "markdown",
   "id": "appropriate-navigation",
   "metadata": {
    "heading_collapsed": "true",
    "tags": []
   },
   "source": [
    "# Visualization"
   ]
  },
  {
   "cell_type": "code",
   "execution_count": null,
   "id": "ecological-thompson",
   "metadata": {},
   "outputs": [],
   "source": [
    "corr = df.corr()\n",
    "corr.style.background_gradient(cmap='coolwarm')"
   ]
  },
  {
   "cell_type": "code",
   "execution_count": null,
   "id": "worthy-monday",
   "metadata": {
    "tags": []
   },
   "outputs": [],
   "source": [
    "numerical_features = df.select_dtypes(include=\"float64\").columns\n",
    "for i in numerical_features:\n",
    "    sns.histplot(df, x=i)\n",
    "    plt.show()"
   ]
  },
  {
   "cell_type": "code",
   "execution_count": null,
   "id": "olympic-geology",
   "metadata": {},
   "outputs": [],
   "source": [
    "sns.histplot(df, x=\"target\")"
   ]
  },
  {
   "cell_type": "code",
   "execution_count": null,
   "id": "bridal-authorization",
   "metadata": {
    "tags": []
   },
   "outputs": [],
   "source": [
    "categorical_features = df.select_dtypes(include=\"object\").columns\n",
    "for i in categorical_features:\n",
    "    fig, ax = plt.subplots(1, 2, figsize=(12, 8))\n",
    "    sns.histplot(df, x=i, ax=ax[0])\n",
    "    sns.boxplot(data=df, x=i, y=\"target\", ax=ax[1])\n",
    "    plt.show()"
   ]
  },
  {
   "cell_type": "code",
   "execution_count": null,
   "id": "competent-opening",
   "metadata": {},
   "outputs": [],
   "source": [
    "categorical_features = df.select_dtypes(include=\"object\").columns\n",
    "for i in categorical_features:\n",
    "    print(i, len(df[i].value_counts()))"
   ]
  },
  {
   "cell_type": "code",
   "execution_count": null,
   "id": "foreign-survival",
   "metadata": {
    "tags": []
   },
   "outputs": [],
   "source": [
    "categorical_features = df.select_dtypes(include=\"object\").columns\n",
    "for i in categorical_features:\n",
    "    print(pd.crosstab(df[i], df[\"target\"], normalize='index'))"
   ]
  },
  {
   "cell_type": "markdown",
   "id": "acute-delicious",
   "metadata": {},
   "source": [
    "# Prepare for Models"
   ]
  },
  {
   "cell_type": "code",
   "execution_count": 6,
   "id": "meaningful-light",
   "metadata": {},
   "outputs": [],
   "source": [
    "df = df.drop(columns=[\"cont0\", \"cont7\", \"cont9\", \"cont10\", \"cat5\", \"cat8\", \"cat10\"])\n",
    "#df_test = df_test.drop(columns=[\"cont0\", \"cont7\", \"cont9\", \"cont10\", \"cat5\", \"cat8\", \"cat10\"])"
   ]
  },
  {
   "cell_type": "code",
   "execution_count": 7,
   "id": "proprietary-sentence",
   "metadata": {},
   "outputs": [],
   "source": [
    "X_train, X_test, y_train, y_test = train_test_split(\n",
    "    df.drop(columns=\"target\"),\n",
    "    df[\"target\"],\n",
    "    test_size=0.3,\n",
    "    random_state=42\n",
    ")"
   ]
  },
  {
   "cell_type": "code",
   "execution_count": 8,
   "id": "lyric-extraction",
   "metadata": {},
   "outputs": [],
   "source": [
    "preprocessor = ColumnTransformer(\n",
    "    transformers=[\n",
    "        (\"num\", StandardScaler(), make_column_selector(dtype_include=np.number)),\n",
    "        (\"cat\", OneHotEncoder(handle_unknown=\"ignore\"), make_column_selector(dtype_include=object)),    \n",
    "    ],\n",
    "    sparse_threshold=0,\n",
    "    n_jobs=-1\n",
    ")"
   ]
  },
  {
   "cell_type": "markdown",
   "id": "handmade-indication",
   "metadata": {
    "tags": []
   },
   "source": [
    "# Models"
   ]
  },
  {
   "cell_type": "markdown",
   "id": "declared-homework",
   "metadata": {
    "heading_collapsed": "true",
    "tags": []
   },
   "source": [
    "## Logistic Regression"
   ]
  },
  {
   "cell_type": "code",
   "execution_count": null,
   "id": "composite-reader",
   "metadata": {},
   "outputs": [],
   "source": [
    "pipeline = Pipeline(\n",
    "    steps=[\n",
    "        (\"preprocessor\", preprocessor),\n",
    "        (\"model\", LogisticRegression())\n",
    "    ]\n",
    ")\n",
    "\n",
    "pipeline.fit(X_train, y_train)"
   ]
  },
  {
   "cell_type": "code",
   "execution_count": null,
   "id": "faced-survey",
   "metadata": {},
   "outputs": [],
   "source": [
    "print_auc(pipeline)"
   ]
  },
  {
   "cell_type": "markdown",
   "id": "iraqi-chrome",
   "metadata": {
    "heading_collapsed": "true",
    "tags": []
   },
   "source": [
    "### Hyperparameter optimization"
   ]
  },
  {
   "cell_type": "code",
   "execution_count": null,
   "id": "impressed-malta",
   "metadata": {
    "tags": []
   },
   "outputs": [],
   "source": [
    "pipeline = Pipeline(\n",
    "    steps=[\n",
    "        (\"preprocessor\", preprocessor),\n",
    "        (\"model\", LogisticRegression())\n",
    "    ]\n",
    ")\n",
    "\n",
    "hyperparameters = {\n",
    "    \"model__penalty\": [\"l1\", \"l2\"],\n",
    "    \"model__C\": np.logspace(0, 4, 10),\n",
    "    \"model__class_weight\": [\"balanced\", None]\n",
    "}\n",
    "\n",
    "gridsearch = GridSearchCV(pipeline, hyperparameters, scoring=\"roc_auc\", cv=3, verbose=0, n_jobs=-1)\n",
    "\n",
    "logistic_regression = gridsearch.fit(X_train, y_train)"
   ]
  },
  {
   "cell_type": "code",
   "execution_count": null,
   "id": "fresh-assurance",
   "metadata": {
    "tags": []
   },
   "outputs": [],
   "source": [
    "logistic_regression.best_estimator_.get_params()"
   ]
  },
  {
   "cell_type": "code",
   "execution_count": null,
   "id": "bearing-yesterday",
   "metadata": {},
   "outputs": [],
   "source": [
    "print_auc(logistic_regression)"
   ]
  },
  {
   "cell_type": "code",
   "execution_count": null,
   "id": "hungry-logistics",
   "metadata": {},
   "outputs": [],
   "source": [
    "plot_roc_curve(logistic_regression, X_test, y_test)"
   ]
  },
  {
   "cell_type": "code",
   "execution_count": null,
   "id": "above-particle",
   "metadata": {},
   "outputs": [],
   "source": [
    "matrix = confusion_matrix(y_test, y_test_pred, normalize=\"true\")\n",
    "matrix"
   ]
  },
  {
   "cell_type": "code",
   "execution_count": null,
   "id": "mathematical-grove",
   "metadata": {},
   "outputs": [],
   "source": [
    "plot_confusion_matrix(logistic_regression, X_test, y_test, normalize=\"true\")\n",
    "plt.show()"
   ]
  },
  {
   "cell_type": "code",
   "execution_count": null,
   "id": "backed-salmon",
   "metadata": {},
   "outputs": [],
   "source": [
    "logistic_regression.best_params_"
   ]
  },
  {
   "cell_type": "markdown",
   "id": "identified-raise",
   "metadata": {
    "heading_collapsed": "true",
    "tags": []
   },
   "source": [
    "## Decision Trees"
   ]
  },
  {
   "cell_type": "code",
   "execution_count": null,
   "id": "novel-oliver",
   "metadata": {},
   "outputs": [],
   "source": [
    "pipeline = Pipeline(\n",
    "    steps=[\n",
    "        (\"preprocessor\", preprocessor),\n",
    "        (\"model\", DecisionTreeClassifier())\n",
    "    ]\n",
    ")\n",
    "\n",
    "pipeline.fit(X_train, y_train)"
   ]
  },
  {
   "cell_type": "code",
   "execution_count": null,
   "id": "innovative-timber",
   "metadata": {},
   "outputs": [],
   "source": [
    "print_auc(pipeline)"
   ]
  },
  {
   "cell_type": "markdown",
   "id": "universal-accuracy",
   "metadata": {},
   "source": [
    "### Hyperparameter optimization"
   ]
  },
  {
   "cell_type": "code",
   "execution_count": null,
   "id": "attempted-portugal",
   "metadata": {
    "tags": []
   },
   "outputs": [],
   "source": [
    "pipeline = Pipeline(\n",
    "    steps=[\n",
    "        (\"preprocessor\", preprocessor),\n",
    "        (\"model\", DecisionTreeClassifier())\n",
    "    ]\n",
    ")\n",
    "\n",
    "hyperparameters = {\n",
    "    \"model__max_depth\": [5, 10, 50],\n",
    "    \"model__min_samples_split\": [5, 10, 50],\n",
    "    \"model__class_weight\": [\"balanced\", None]\n",
    "}\n",
    "\n",
    "gridsearch = GridSearchCV(pipeline, hyperparameters, scoring=\"roc_auc\", cv=3, verbose=0, n_jobs=-1)\n",
    "\n",
    "tree_classifier = gridsearch.fit(X_train, y_train)"
   ]
  },
  {
   "cell_type": "code",
   "execution_count": null,
   "id": "creative-grain",
   "metadata": {
    "tags": []
   },
   "outputs": [],
   "source": [
    "tree_classifier.best_estimator_.get_params()"
   ]
  },
  {
   "cell_type": "code",
   "execution_count": null,
   "id": "diagnostic-prescription",
   "metadata": {},
   "outputs": [],
   "source": [
    "print_auc(tree_classifier)"
   ]
  },
  {
   "cell_type": "markdown",
   "id": "separated-arthritis",
   "metadata": {
    "heading_collapsed": "true",
    "tags": []
   },
   "source": [
    "## SGD"
   ]
  },
  {
   "cell_type": "code",
   "execution_count": null,
   "id": "brilliant-cherry",
   "metadata": {},
   "outputs": [],
   "source": [
    "pipeline = Pipeline(\n",
    "    steps=[\n",
    "        (\"preprocessor\", preprocessor),\n",
    "        (\"model\", SGDClassifier())\n",
    "    ]\n",
    ")\n",
    "\n",
    "pipeline.fit(X_train, y_train)"
   ]
  },
  {
   "cell_type": "code",
   "execution_count": null,
   "id": "rocky-phrase",
   "metadata": {},
   "outputs": [],
   "source": [
    "print_auc(pipeline)"
   ]
  },
  {
   "cell_type": "markdown",
   "id": "swedish-hepatitis",
   "metadata": {},
   "source": [
    "### Hyperparameter optimization"
   ]
  },
  {
   "cell_type": "code",
   "execution_count": null,
   "id": "homeless-liverpool",
   "metadata": {
    "tags": []
   },
   "outputs": [],
   "source": [
    "pipeline = Pipeline(\n",
    "    steps=[\n",
    "        (\"preprocessor\", preprocessor),\n",
    "        (\"model\", SGDClassifier())\n",
    "    ]\n",
    ")\n",
    "\n",
    "hyperparameters = {\n",
    "    \"model__loss\": [\"hinge\", \"log\"],\n",
    "    \"model__penalty\": [\"l2\", \"l1\"],\n",
    "    \"model__alpha\": [0.0001, 0.001, 0.01, 0.1, 0.5, 1, 5, 10],\n",
    "    \"model__class_weight\": [\"balanced\", None]\n",
    "}\n",
    "\n",
    "gridsearch = GridSearchCV(pipeline, hyperparameters, scoring=\"roc_auc\", cv=3, verbose=0, n_jobs=-1)\n",
    "\n",
    "sgd = gridsearch.fit(X_train, y_train)"
   ]
  },
  {
   "cell_type": "code",
   "execution_count": null,
   "id": "elect-policy",
   "metadata": {
    "tags": []
   },
   "outputs": [],
   "source": [
    "sgd.best_estimator_.get_params()"
   ]
  },
  {
   "cell_type": "code",
   "execution_count": null,
   "id": "taken-combine",
   "metadata": {},
   "outputs": [],
   "source": [
    "print_auc(sgd)"
   ]
  },
  {
   "cell_type": "markdown",
   "id": "numeric-peter",
   "metadata": {},
   "source": [
    "## Neural Networks"
   ]
  },
  {
   "cell_type": "markdown",
   "id": "lightweight-ordinary",
   "metadata": {},
   "source": [
    "### Pipeline without model"
   ]
  },
  {
   "cell_type": "code",
   "execution_count": 9,
   "id": "directed-moore",
   "metadata": {},
   "outputs": [],
   "source": [
    "val_size = int(len(X_train) * 0.66)\n",
    "X_val = X_train[-val_size:]\n",
    "X_train = X_train[:-val_size]\n",
    "y_val = y_train[-val_size:]\n",
    "y_train = y_train[:-val_size]\n",
    "\n",
    "X_train = preprocessor.fit_transform(X_train)\n",
    "X_val = preprocessor.transform(X_val)\n",
    "X_test = preprocessor.transform(X_test)"
   ]
  },
  {
   "cell_type": "code",
   "execution_count": 10,
   "id": "entitled-museum",
   "metadata": {},
   "outputs": [
    {
     "data": {
      "text/plain": [
       "(71400, 186)"
      ]
     },
     "execution_count": 10,
     "metadata": {},
     "output_type": "execute_result"
    }
   ],
   "source": [
    "X_train.shape"
   ]
  },
  {
   "cell_type": "code",
   "execution_count": null,
   "id": "ceramic-transmission",
   "metadata": {},
   "outputs": [],
   "source": [
    "model = keras.Sequential(\n",
    "        [\n",
    "            layers.Dense(50, activation=\"relu\", input_shape=(X_train.shape[1],)),\n",
    "            layers.Dense(units=1, activation=\"sigmoid\")\n",
    "        ]\n",
    ")\n",
    "\n",
    "model.compile(\n",
    "    loss=\"binary_crossentropy\", \n",
    "    optimizer=\"adam\", \n",
    "    metrics=[\"AUC\"]\n",
    ")\n",
    "\n",
    "history = model.fit(X_train, y_train, epochs=5, verbose=1, validation_data=(X_val, y_val))"
   ]
  },
  {
   "cell_type": "code",
   "execution_count": null,
   "id": "dynamic-healing",
   "metadata": {},
   "outputs": [],
   "source": [
    "plt.plot(history.history['auc'], label=\"training_auc\")\n",
    "plt.plot(history.history['val_auc'], label=\"val_auc\")\n",
    "plt.ylabel('AUC')\n",
    "plt.xlabel('Epoch')\n",
    "plt.legend()\n",
    "plt.show()"
   ]
  },
  {
   "cell_type": "code",
   "execution_count": null,
   "id": "polar-shield",
   "metadata": {},
   "outputs": [],
   "source": [
    "#y_test_pred_proba = pipeline.predict(X_test)\n",
    "y_test_pred_classes = np.where(model.predict(X_test) > 0.5, 1, 0)"
   ]
  },
  {
   "cell_type": "code",
   "execution_count": null,
   "id": "iraqi-sitting",
   "metadata": {},
   "outputs": [],
   "source": [
    "fpr, tpr, threshold = roc_curve(y_test, y_test_pred_classes)\n",
    "roc_auc = auc(fpr, tpr)\n",
    "print(\"Test AUC:\", roc_auc)"
   ]
  },
  {
   "cell_type": "markdown",
   "id": "portuguese-athens",
   "metadata": {
    "tags": []
   },
   "source": [
    "### NN Gridsearch"
   ]
  },
  {
   "cell_type": "code",
   "execution_count": 11,
   "id": "adverse-nature",
   "metadata": {},
   "outputs": [],
   "source": [
    "from tensorflow.keras.wrappers.scikit_learn import KerasClassifier"
   ]
  },
  {
   "cell_type": "code",
   "execution_count": 12,
   "id": "imposed-proposition",
   "metadata": {},
   "outputs": [],
   "source": [
    "def neural_network_wrapper(layers_1_size):\n",
    "    model = keras.Sequential(\n",
    "        [\n",
    "            layers.Dense(layers_1_size, activation=\"relu\", input_shape=(186,)),\n",
    "            layers.Dense(units=1, activation=\"sigmoid\")\n",
    "        ]\n",
    "    )\n",
    "    model.compile(\n",
    "        loss=\"binary_crossentropy\", \n",
    "        optimizer=\"adam\", \n",
    "        metrics=['accuracy']\n",
    "    )\n",
    "    \n",
    "    return model"
   ]
  },
  {
   "cell_type": "code",
   "execution_count": 13,
   "id": "patent-stamp",
   "metadata": {},
   "outputs": [],
   "source": [
    "neural_network = KerasClassifier(build_fn=neural_network_wrapper, epochs=5, verbose=0)"
   ]
  },
  {
   "cell_type": "code",
   "execution_count": 15,
   "id": "technical-today",
   "metadata": {
    "tags": []
   },
   "outputs": [],
   "source": [
    "hyperparameters = {\n",
    "    \"layers_1_size\": [20, 25, 30, 35, 40],\n",
    "}\n",
    "\n",
    "grid = GridSearchCV(estimator=neural_network, param_grid=hyperparameters)\n",
    "grid_result = grid.fit(X_train, y_train)"
   ]
  },
  {
   "cell_type": "code",
   "execution_count": 16,
   "id": "agreed-matrix",
   "metadata": {},
   "outputs": [
    {
     "data": {
      "text/plain": [
       "{'cv': None,\n",
       " 'error_score': nan,\n",
       " 'estimator__verbose': 0,\n",
       " 'estimator__build_fn': <function __main__.neural_network_wrapper(layers_1_size)>,\n",
       " 'estimator': <tensorflow.python.keras.wrappers.scikit_learn.KerasClassifier at 0x285747d01f0>,\n",
       " 'n_jobs': None,\n",
       " 'param_grid': {'layers_1_size': [20, 25, 30, 35, 40]},\n",
       " 'pre_dispatch': '2*n_jobs',\n",
       " 'refit': True,\n",
       " 'return_train_score': False,\n",
       " 'scoring': None,\n",
       " 'verbose': 0}"
      ]
     },
     "execution_count": 16,
     "metadata": {},
     "output_type": "execute_result"
    }
   ],
   "source": [
    "grid_result.get_params()"
   ]
  },
  {
   "cell_type": "code",
   "execution_count": 17,
   "id": "swedish-apollo",
   "metadata": {},
   "outputs": [
    {
     "data": {
      "text/plain": [
       "{'layers_1_size': 30}"
      ]
     },
     "execution_count": 17,
     "metadata": {},
     "output_type": "execute_result"
    }
   ],
   "source": [
    "grid_result.best_params_"
   ]
  },
  {
   "cell_type": "code",
   "execution_count": 18,
   "id": "fluid-dialogue",
   "metadata": {},
   "outputs": [
    {
     "name": "stderr",
     "output_type": "stream",
     "text": [
      "c:\\users\\user\\.conda\\envs\\datascience\\lib\\site-packages\\tensorflow\\python\\keras\\engine\\sequential.py:450: UserWarning: `model.predict_classes()` is deprecated and will be removed after 2021-01-01. Please use instead:* `np.argmax(model.predict(x), axis=-1)`,   if your model does multi-class classification   (e.g. if it uses a `softmax` last-layer activation).* `(model.predict(x) > 0.5).astype(\"int32\")`,   if your model does binary classification   (e.g. if it uses a `sigmoid` last-layer activation).\n",
      "  warnings.warn('`model.predict_classes()` is deprecated and '\n"
     ]
    }
   ],
   "source": [
    "#y_test_pred_proba = pipeline.predict(X_test)\n",
    "y_test_pred_classes = np.where(grid_result.predict(X_test) > 0.5, 1, 0)"
   ]
  },
  {
   "cell_type": "code",
   "execution_count": 19,
   "id": "international-nicaragua",
   "metadata": {},
   "outputs": [
    {
     "name": "stdout",
     "output_type": "stream",
     "text": [
      "Test AUC: 0.780880518556413\n"
     ]
    }
   ],
   "source": [
    "fpr, tpr, threshold = roc_curve(y_test, y_test_pred_classes)\n",
    "roc_auc = auc(fpr, tpr)\n",
    "print(\"Test AUC:\", roc_auc)"
   ]
  },
  {
   "cell_type": "markdown",
   "id": "surgical-court",
   "metadata": {},
   "source": [
    "### Hyperopt"
   ]
  },
  {
   "cell_type": "code",
   "execution_count": null,
   "id": "unknown-vegetable",
   "metadata": {},
   "outputs": [],
   "source": [
    "from hyperopt import fmin, tpe, hp, SparkTrials, STATUS_OK, Trials"
   ]
  },
  {
   "cell_type": "code",
   "execution_count": null,
   "id": "split-vegetation",
   "metadata": {},
   "outputs": [],
   "source": [
    "def neural_network_wrapper(layers_1_size):\n",
    "    model = keras.Sequential(\n",
    "        [\n",
    "            layers.Dense(layers_1_size, activation=\"relu\", input_shape=(200,)),\n",
    "            layers.Dense(units=1, activation=\"sigmoid\")\n",
    "        ]\n",
    "    )\n",
    "    model.compile(\n",
    "        loss=\"binary_crossentropy\", \n",
    "        optimizer=\"adam\", \n",
    "        metrics=[\"AUC\"]\n",
    "    )\n",
    "    \n",
    "    return model"
   ]
  },
  {
   "cell_type": "code",
   "execution_count": null,
   "id": "center-chapel",
   "metadata": {},
   "outputs": [],
   "source": [
    "def objective(layers_1_size):\n",
    "    clf = neural_network_wrapper(layers_1_size)\n",
    "    \n",
    "    y_test_pred_classes = np.where(model.predict(X_test) > 0.5, 1, 0)\n",
    "    fpr, tpr, threshold = roc_curve(y_test, y_test_pred_classes)\n",
    "    roc_auc = auc(fpr, tpr)\n",
    "    \n",
    "    return {'loss': -roc_auc, 'status': STATUS_OK}"
   ]
  },
  {
   "cell_type": "code",
   "execution_count": null,
   "id": "completed-embassy",
   "metadata": {},
   "outputs": [],
   "source": [
    "search_space = hp.uniform('layers_1_size', 10, 50)"
   ]
  },
  {
   "cell_type": "code",
   "execution_count": null,
   "id": "distant-tsunami",
   "metadata": {},
   "outputs": [],
   "source": [
    "argmin = fmin(\n",
    "  fn=objective,\n",
    "  space=search_space,\n",
    "  algo=tpe.suggest,\n",
    "  max_evals=100)"
   ]
  },
  {
   "cell_type": "code",
   "execution_count": null,
   "id": "married-housing",
   "metadata": {},
   "outputs": [],
   "source": [
    "print(\"Best value found: \", argmin)"
   ]
  },
  {
   "cell_type": "markdown",
   "id": "statistical-control",
   "metadata": {
    "tags": []
   },
   "source": [
    "# Submission"
   ]
  },
  {
   "cell_type": "code",
   "execution_count": null,
   "id": "protected-wedding",
   "metadata": {},
   "outputs": [],
   "source": [
    "df_test = pd.read_csv(\"../data/test.csv\")\n",
    "\n",
    "submission_id = df_test[\"id\"]\n",
    "df_test = df_test.drop(columns=\"id\")\n",
    "\n",
    "df_test = preprocessor.transform(df_test)\n",
    "\n",
    "\n",
    "#submission_y = pipeline.predict_proba(df_test)[:, 1]\n",
    "submission_y = model.predict(df_test)\n",
    "\n",
    "submission = pd.DataFrame()\n",
    "submission[\"id\"] = submission_id\n",
    "submission[\"target\"] = submission_y\n",
    "submission.to_csv(f\"../submissions/submission_{timestamp()}.csv\", index=False)"
   ]
  }
 ],
 "metadata": {
  "kernelspec": {
   "display_name": "Python 3",
   "language": "python",
   "name": "python3"
  },
  "language_info": {
   "codemirror_mode": {
    "name": "ipython",
    "version": 3
   },
   "file_extension": ".py",
   "mimetype": "text/x-python",
   "name": "python",
   "nbconvert_exporter": "python",
   "pygments_lexer": "ipython3",
   "version": "3.8.8"
  },
  "toc-autonumbering": false,
  "toc-showcode": false,
  "toc-showmarkdowntxt": false,
  "toc-showtags": false
 },
 "nbformat": 4,
 "nbformat_minor": 5
}
