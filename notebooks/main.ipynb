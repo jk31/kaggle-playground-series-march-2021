{
 "cells": [
  {
   "cell_type": "markdown",
   "id": "angry-marina",
   "metadata": {
    "heading_collapsed": "true",
    "tags": []
   },
   "source": [
    "# Notes"
   ]
  },
  {
   "cell_type": "markdown",
   "id": "established-impossible",
   "metadata": {},
   "source": [
    "Source: https://www.kaggle.com/c/tabular-playground-series-mar-2021\n",
    "\n",
    ">Submissions are evaluated on area under the ROC curve between the predicted probability and the observed target.\n",
    "* https://en.wikipedia.org/wiki/Receiver_operating_characteristic\n",
    "* `clf.predict_proba(test)[:, 1]`\n",
    "\n",
    "---\n",
    "\n",
    "* Cat1 - Cat10 have many categories\n",
    "* Cont5 is weird\n",
    "* target class \"1\" makes only 24%\n",
    "* think how to combine models\n",
    "* make pipeline (read the medium article about best practice)\n",
    "```python\n",
    "regression = Pipeline(\n",
    "    steps=[(\"preprocessor\", preprocessor), (\"regression\", LinearRegression())]\n",
    ")\n",
    "regression.fit(X_train, y_train)\n",
    "```\n",
    "* read the \"sklearn pitfalls\"\n",
    "\n",
    "---\n",
    "| Model | Optimization | Test AUC | Kaggle AUC | Notes |\n",
    "| --- | --- | --- | --- | --- |\n",
    "| LogisticRegression | N | 0.7707 | 0.87 | problems with predicting the underrepresented class \"1\" |\n",
    "| LogisticRegression | Y | 0.803 | 0.87 | balanced weights improve test AUC |"
   ]
  },
  {
   "cell_type": "markdown",
   "id": "another-particular",
   "metadata": {
    "tags": []
   },
   "source": [
    "# Libraries and helper functions"
   ]
  },
  {
   "cell_type": "code",
   "execution_count": 1,
   "id": "absolute-luther",
   "metadata": {},
   "outputs": [],
   "source": [
    "import math\n",
    "\n",
    "import numpy as np\n",
    "import pandas as pd\n",
    "\n",
    "import matplotlib as mpl\n",
    "import matplotlib.pyplot as plt\n",
    "import seaborn as sns\n",
    "%matplotlib inline\n",
    "plt.style.use('seaborn-whitegrid')\n",
    "\n",
    "import scikitplot as skplt\n",
    "\n",
    "from sklearn.pipeline import Pipeline\n",
    "from sklearn.compose import ColumnTransformer, make_column_selector\n",
    "from sklearn.preprocessing import StandardScaler, OneHotEncoder\n",
    "from sklearn.feature_selection import SelectKBest, chi2, f_classif\n",
    "from sklearn.model_selection import train_test_split, GridSearchCV\n",
    "\n",
    "from sklearn.metrics import roc_curve, auc, confusion_matrix, plot_confusion_matrix, plot_roc_curve\n",
    "\n",
    "from sklearn.linear_model import LogisticRegression, SGDClassifier\n",
    "from sklearn.tree import DecisionTreeClassifier\n",
    "\n",
    "import tensorflow as tf\n",
    "from tensorflow import keras\n",
    "from tensorflow.keras import layers"
   ]
  },
  {
   "cell_type": "code",
   "execution_count": 2,
   "id": "generic-publicity",
   "metadata": {},
   "outputs": [],
   "source": [
    "import datetime\n",
    "def timestamp():\n",
    "    time = f\"{datetime.datetime.now().date()}--{datetime.datetime.now().time().replace(microsecond=0)}\"\n",
    "    return time.replace(\":\", \"-\")"
   ]
  },
  {
   "cell_type": "code",
   "execution_count": 3,
   "id": "sunrise-criterion",
   "metadata": {
    "tags": []
   },
   "outputs": [],
   "source": [
    "def print_auc(model):\n",
    "    global X_train\n",
    "    global y_train\n",
    "    global X_test\n",
    "    global y_test\n",
    "    \n",
    "    y_train_pred = model.predict(X_train)\n",
    "    y_test_pred = model.predict(X_test)\n",
    "    \n",
    "    fpr, tpr, threshold = roc_curve(y_train, y_train_pred)\n",
    "    roc_auc = auc(fpr, tpr)\n",
    "    print(\"Training AUC:\", roc_auc)\n",
    "\n",
    "    fpr, tpr, threshold = roc_curve(y_test, y_test_pred)\n",
    "    roc_auc = auc(fpr, tpr)\n",
    "    print(\"Test AUC:\", roc_auc)"
   ]
  },
  {
   "cell_type": "markdown",
   "id": "laughing-firewall",
   "metadata": {
    "tags": []
   },
   "source": [
    "# Load and Wrangle"
   ]
  },
  {
   "cell_type": "code",
   "execution_count": 4,
   "id": "graphic-honolulu",
   "metadata": {},
   "outputs": [],
   "source": [
    "df = pd.read_csv(\"../data/train.csv\")\n",
    "df = df.drop(columns=[\"id\"])"
   ]
  },
  {
   "cell_type": "code",
   "execution_count": 5,
   "id": "medium-expansion",
   "metadata": {
    "tags": []
   },
   "outputs": [
    {
     "name": "stdout",
     "output_type": "stream",
     "text": [
      "<class 'pandas.core.frame.DataFrame'>\n",
      "RangeIndex: 300000 entries, 0 to 299999\n",
      "Data columns (total 31 columns):\n",
      " #   Column  Non-Null Count   Dtype  \n",
      "---  ------  --------------   -----  \n",
      " 0   cat0    300000 non-null  object \n",
      " 1   cat1    300000 non-null  object \n",
      " 2   cat2    300000 non-null  object \n",
      " 3   cat3    300000 non-null  object \n",
      " 4   cat4    300000 non-null  object \n",
      " 5   cat5    300000 non-null  object \n",
      " 6   cat6    300000 non-null  object \n",
      " 7   cat7    300000 non-null  object \n",
      " 8   cat8    300000 non-null  object \n",
      " 9   cat9    300000 non-null  object \n",
      " 10  cat10   300000 non-null  object \n",
      " 11  cat11   300000 non-null  object \n",
      " 12  cat12   300000 non-null  object \n",
      " 13  cat13   300000 non-null  object \n",
      " 14  cat14   300000 non-null  object \n",
      " 15  cat15   300000 non-null  object \n",
      " 16  cat16   300000 non-null  object \n",
      " 17  cat17   300000 non-null  object \n",
      " 18  cat18   300000 non-null  object \n",
      " 19  cont0   300000 non-null  float64\n",
      " 20  cont1   300000 non-null  float64\n",
      " 21  cont2   300000 non-null  float64\n",
      " 22  cont3   300000 non-null  float64\n",
      " 23  cont4   300000 non-null  float64\n",
      " 24  cont5   300000 non-null  float64\n",
      " 25  cont6   300000 non-null  float64\n",
      " 26  cont7   300000 non-null  float64\n",
      " 27  cont8   300000 non-null  float64\n",
      " 28  cont9   300000 non-null  float64\n",
      " 29  cont10  300000 non-null  float64\n",
      " 30  target  300000 non-null  int64  \n",
      "dtypes: float64(11), int64(1), object(19)\n",
      "memory usage: 71.0+ MB\n"
     ]
    }
   ],
   "source": [
    "df.info()"
   ]
  },
  {
   "cell_type": "code",
   "execution_count": 6,
   "id": "latin-helena",
   "metadata": {},
   "outputs": [
    {
     "data": {
      "text/html": [
       "<div>\n",
       "<style scoped>\n",
       "    .dataframe tbody tr th:only-of-type {\n",
       "        vertical-align: middle;\n",
       "    }\n",
       "\n",
       "    .dataframe tbody tr th {\n",
       "        vertical-align: top;\n",
       "    }\n",
       "\n",
       "    .dataframe thead th {\n",
       "        text-align: right;\n",
       "    }\n",
       "</style>\n",
       "<table border=\"1\" class=\"dataframe\">\n",
       "  <thead>\n",
       "    <tr style=\"text-align: right;\">\n",
       "      <th></th>\n",
       "      <th>cont0</th>\n",
       "      <th>cont1</th>\n",
       "      <th>cont2</th>\n",
       "      <th>cont3</th>\n",
       "      <th>cont4</th>\n",
       "      <th>cont5</th>\n",
       "      <th>cont6</th>\n",
       "      <th>cont7</th>\n",
       "      <th>cont8</th>\n",
       "      <th>cont9</th>\n",
       "      <th>cont10</th>\n",
       "      <th>target</th>\n",
       "    </tr>\n",
       "  </thead>\n",
       "  <tbody>\n",
       "    <tr>\n",
       "      <th>count</th>\n",
       "      <td>300000.000000</td>\n",
       "      <td>300000.000000</td>\n",
       "      <td>300000.000000</td>\n",
       "      <td>300000.000000</td>\n",
       "      <td>300000.000000</td>\n",
       "      <td>300000.000000</td>\n",
       "      <td>300000.000000</td>\n",
       "      <td>300000.000000</td>\n",
       "      <td>300000.000000</td>\n",
       "      <td>300000.000000</td>\n",
       "      <td>300000.000000</td>\n",
       "      <td>300000.000000</td>\n",
       "    </tr>\n",
       "    <tr>\n",
       "      <th>mean</th>\n",
       "      <td>0.504749</td>\n",
       "      <td>0.494073</td>\n",
       "      <td>0.516632</td>\n",
       "      <td>0.474235</td>\n",
       "      <td>0.504848</td>\n",
       "      <td>0.502257</td>\n",
       "      <td>0.488229</td>\n",
       "      <td>0.501739</td>\n",
       "      <td>0.488074</td>\n",
       "      <td>0.469496</td>\n",
       "      <td>0.508230</td>\n",
       "      <td>0.264870</td>\n",
       "    </tr>\n",
       "    <tr>\n",
       "      <th>std</th>\n",
       "      <td>0.206788</td>\n",
       "      <td>0.213037</td>\n",
       "      <td>0.214851</td>\n",
       "      <td>0.216636</td>\n",
       "      <td>0.227474</td>\n",
       "      <td>0.241243</td>\n",
       "      <td>0.211335</td>\n",
       "      <td>0.203496</td>\n",
       "      <td>0.179048</td>\n",
       "      <td>0.194516</td>\n",
       "      <td>0.203393</td>\n",
       "      <td>0.441265</td>\n",
       "    </tr>\n",
       "    <tr>\n",
       "      <th>min</th>\n",
       "      <td>-0.049562</td>\n",
       "      <td>0.084480</td>\n",
       "      <td>0.094493</td>\n",
       "      <td>-0.045316</td>\n",
       "      <td>0.168071</td>\n",
       "      <td>-0.036379</td>\n",
       "      <td>0.005199</td>\n",
       "      <td>0.090901</td>\n",
       "      <td>0.024139</td>\n",
       "      <td>0.214866</td>\n",
       "      <td>0.097789</td>\n",
       "      <td>0.000000</td>\n",
       "    </tr>\n",
       "    <tr>\n",
       "      <th>25%</th>\n",
       "      <td>0.344985</td>\n",
       "      <td>0.317363</td>\n",
       "      <td>0.326047</td>\n",
       "      <td>0.292249</td>\n",
       "      <td>0.279303</td>\n",
       "      <td>0.276442</td>\n",
       "      <td>0.323914</td>\n",
       "      <td>0.353054</td>\n",
       "      <td>0.358915</td>\n",
       "      <td>0.309934</td>\n",
       "      <td>0.368312</td>\n",
       "      <td>0.000000</td>\n",
       "    </tr>\n",
       "    <tr>\n",
       "      <th>50%</th>\n",
       "      <td>0.479650</td>\n",
       "      <td>0.463170</td>\n",
       "      <td>0.471247</td>\n",
       "      <td>0.387564</td>\n",
       "      <td>0.479858</td>\n",
       "      <td>0.554768</td>\n",
       "      <td>0.518089</td>\n",
       "      <td>0.435404</td>\n",
       "      <td>0.410908</td>\n",
       "      <td>0.407477</td>\n",
       "      <td>0.446576</td>\n",
       "      <td>0.000000</td>\n",
       "    </tr>\n",
       "    <tr>\n",
       "      <th>75%</th>\n",
       "      <td>0.637657</td>\n",
       "      <td>0.693992</td>\n",
       "      <td>0.704625</td>\n",
       "      <td>0.644950</td>\n",
       "      <td>0.725779</td>\n",
       "      <td>0.735225</td>\n",
       "      <td>0.608537</td>\n",
       "      <td>0.642023</td>\n",
       "      <td>0.612725</td>\n",
       "      <td>0.586793</td>\n",
       "      <td>0.581957</td>\n",
       "      <td>1.000000</td>\n",
       "    </tr>\n",
       "    <tr>\n",
       "      <th>max</th>\n",
       "      <td>1.004559</td>\n",
       "      <td>1.009958</td>\n",
       "      <td>1.016600</td>\n",
       "      <td>0.952187</td>\n",
       "      <td>0.858578</td>\n",
       "      <td>0.853022</td>\n",
       "      <td>0.966553</td>\n",
       "      <td>1.035818</td>\n",
       "      <td>1.055885</td>\n",
       "      <td>1.005652</td>\n",
       "      <td>1.011331</td>\n",
       "      <td>1.000000</td>\n",
       "    </tr>\n",
       "  </tbody>\n",
       "</table>\n",
       "</div>"
      ],
      "text/plain": [
       "               cont0          cont1          cont2          cont3  \\\n",
       "count  300000.000000  300000.000000  300000.000000  300000.000000   \n",
       "mean        0.504749       0.494073       0.516632       0.474235   \n",
       "std         0.206788       0.213037       0.214851       0.216636   \n",
       "min        -0.049562       0.084480       0.094493      -0.045316   \n",
       "25%         0.344985       0.317363       0.326047       0.292249   \n",
       "50%         0.479650       0.463170       0.471247       0.387564   \n",
       "75%         0.637657       0.693992       0.704625       0.644950   \n",
       "max         1.004559       1.009958       1.016600       0.952187   \n",
       "\n",
       "               cont4          cont5          cont6          cont7  \\\n",
       "count  300000.000000  300000.000000  300000.000000  300000.000000   \n",
       "mean        0.504848       0.502257       0.488229       0.501739   \n",
       "std         0.227474       0.241243       0.211335       0.203496   \n",
       "min         0.168071      -0.036379       0.005199       0.090901   \n",
       "25%         0.279303       0.276442       0.323914       0.353054   \n",
       "50%         0.479858       0.554768       0.518089       0.435404   \n",
       "75%         0.725779       0.735225       0.608537       0.642023   \n",
       "max         0.858578       0.853022       0.966553       1.035818   \n",
       "\n",
       "               cont8          cont9         cont10         target  \n",
       "count  300000.000000  300000.000000  300000.000000  300000.000000  \n",
       "mean        0.488074       0.469496       0.508230       0.264870  \n",
       "std         0.179048       0.194516       0.203393       0.441265  \n",
       "min         0.024139       0.214866       0.097789       0.000000  \n",
       "25%         0.358915       0.309934       0.368312       0.000000  \n",
       "50%         0.410908       0.407477       0.446576       0.000000  \n",
       "75%         0.612725       0.586793       0.581957       1.000000  \n",
       "max         1.055885       1.005652       1.011331       1.000000  "
      ]
     },
     "execution_count": 6,
     "metadata": {},
     "output_type": "execute_result"
    }
   ],
   "source": [
    "df.describe()"
   ]
  },
  {
   "cell_type": "markdown",
   "id": "relative-blackjack",
   "metadata": {
    "heading_collapsed": "true",
    "tags": []
   },
   "source": [
    "# Visualization"
   ]
  },
  {
   "cell_type": "code",
   "execution_count": null,
   "id": "partial-cliff",
   "metadata": {},
   "outputs": [],
   "source": [
    "corr = df.corr()\n",
    "corr.style.background_gradient(cmap='coolwarm')"
   ]
  },
  {
   "cell_type": "code",
   "execution_count": null,
   "id": "written-commons",
   "metadata": {
    "tags": []
   },
   "outputs": [],
   "source": [
    "numerical_features = df.select_dtypes(include=\"float64\").columns\n",
    "for i in numerical_features:\n",
    "    sns.histplot(df, x=i)\n",
    "    plt.show()"
   ]
  },
  {
   "cell_type": "code",
   "execution_count": null,
   "id": "interpreted-christopher",
   "metadata": {},
   "outputs": [],
   "source": [
    "sns.histplot(df, x=\"target\")"
   ]
  },
  {
   "cell_type": "code",
   "execution_count": null,
   "id": "annual-negative",
   "metadata": {
    "tags": []
   },
   "outputs": [],
   "source": [
    "categorical_features = df.select_dtypes(include=\"object\").columns\n",
    "for i in categorical_features:\n",
    "    fig, ax = plt.subplots(1, 2, figsize=(12, 8))\n",
    "    sns.histplot(df, x=i, ax=ax[0])\n",
    "    sns.boxplot(data=df, x=i, y=\"target\", ax=ax[1])\n",
    "    plt.show()"
   ]
  },
  {
   "cell_type": "code",
   "execution_count": null,
   "id": "front-velvet",
   "metadata": {},
   "outputs": [],
   "source": [
    "categorical_features = df.select_dtypes(include=\"object\").columns\n",
    "for i in categorical_features:\n",
    "    print(i, len(df[i].value_counts()))"
   ]
  },
  {
   "cell_type": "code",
   "execution_count": null,
   "id": "right-nicholas",
   "metadata": {
    "tags": []
   },
   "outputs": [],
   "source": [
    "categorical_features = df.select_dtypes(include=\"object\").columns\n",
    "for i in categorical_features:\n",
    "    print(pd.crosstab(df[i], df[\"target\"], normalize='index'))"
   ]
  },
  {
   "cell_type": "markdown",
   "id": "protecting-there",
   "metadata": {},
   "source": [
    "# Prepare for Models"
   ]
  },
  {
   "cell_type": "code",
   "execution_count": null,
   "id": "roman-finish",
   "metadata": {},
   "outputs": [],
   "source": [
    "# df = df.drop(columns=[\"cont0\", \"cont7\", \"cont9\", \"cont10\", \"cat5\", \"cat8\", \"cat10\"])\n",
    "# df_test = df_test.drop(columns=[\"cont0\", \"cont7\", \"cont9\", \"cont10\", \"cat5\", \"cat8\", \"cat10\"])"
   ]
  },
  {
   "cell_type": "code",
   "execution_count": 7,
   "id": "central-algeria",
   "metadata": {},
   "outputs": [],
   "source": [
    "X_train, X_test, y_train, y_test = train_test_split(\n",
    "    df.drop(columns=\"target\"),\n",
    "    df[\"target\"],\n",
    "    test_size=0.3,\n",
    "    random_state=42\n",
    ")"
   ]
  },
  {
   "cell_type": "code",
   "execution_count": 8,
   "id": "strategic-toddler",
   "metadata": {},
   "outputs": [],
   "source": [
    "preprocessor = ColumnTransformer(\n",
    "    transformers=[\n",
    "        (\"num\", StandardScaler(), make_column_selector(dtype_include=np.number)),\n",
    "        (\"cat\", OneHotEncoder(handle_unknown=\"ignore\"), make_column_selector(dtype_include=object)),    \n",
    "    ],\n",
    "    sparse_threshold=0,\n",
    "    n_jobs=-1\n",
    ")"
   ]
  },
  {
   "cell_type": "markdown",
   "id": "physical-swimming",
   "metadata": {
    "tags": []
   },
   "source": [
    "# Models"
   ]
  },
  {
   "cell_type": "markdown",
   "id": "amber-antarctica",
   "metadata": {
    "heading_collapsed": "true",
    "tags": []
   },
   "source": [
    "## Logistic Regression"
   ]
  },
  {
   "cell_type": "code",
   "execution_count": null,
   "id": "inclusive-arthur",
   "metadata": {},
   "outputs": [],
   "source": [
    "pipeline = Pipeline(\n",
    "    steps=[\n",
    "        (\"preprocessor\", preprocessor),\n",
    "        ('select_k_best', select_best_features),\n",
    "        (\"model\", LogisticRegression())\n",
    "    ]\n",
    ")\n",
    "\n",
    "pipeline.fit(X_train, y_train)"
   ]
  },
  {
   "cell_type": "code",
   "execution_count": null,
   "id": "dutch-destruction",
   "metadata": {},
   "outputs": [],
   "source": [
    "print_auc(pipeline)"
   ]
  },
  {
   "cell_type": "markdown",
   "id": "tender-needle",
   "metadata": {
    "heading_collapsed": "true",
    "tags": []
   },
   "source": [
    "### Hyperparameter optimization"
   ]
  },
  {
   "cell_type": "code",
   "execution_count": null,
   "id": "numerical-jamaica",
   "metadata": {
    "tags": []
   },
   "outputs": [],
   "source": [
    "pipeline = Pipeline(\n",
    "    steps=[\n",
    "        (\"preprocessor\", preprocessor),\n",
    "        (\"model\", LogisticRegression())\n",
    "    ]\n",
    ")\n",
    "\n",
    "hyperparameters = {\n",
    "    \"model__penalty\": [\"l1\", \"l2\"],\n",
    "    \"model__C\": np.logspace(0, 4, 10),\n",
    "    \"model__class_weight\": [\"balanced\", None]\n",
    "}\n",
    "\n",
    "gridsearch = GridSearchCV(pipeline, hyperparameters, scoring=\"roc_auc\", cv=3, verbose=0, n_jobs=-1)\n",
    "\n",
    "logistic_regression = gridsearch.fit(X_train, y_train)"
   ]
  },
  {
   "cell_type": "code",
   "execution_count": null,
   "id": "indian-report",
   "metadata": {
    "tags": []
   },
   "outputs": [],
   "source": [
    "logistic_regression.best_estimator_.get_params()"
   ]
  },
  {
   "cell_type": "code",
   "execution_count": null,
   "id": "vital-pocket",
   "metadata": {},
   "outputs": [],
   "source": [
    "print_auc(logistic_regression)"
   ]
  },
  {
   "cell_type": "code",
   "execution_count": null,
   "id": "vanilla-magazine",
   "metadata": {},
   "outputs": [],
   "source": [
    "plot_roc_curve(logistic_regression, X_test, y_test)"
   ]
  },
  {
   "cell_type": "code",
   "execution_count": null,
   "id": "pointed-stable",
   "metadata": {},
   "outputs": [],
   "source": [
    "matrix = confusion_matrix(y_test, y_test_pred, normalize=\"true\")\n",
    "matrix"
   ]
  },
  {
   "cell_type": "code",
   "execution_count": null,
   "id": "remarkable-player",
   "metadata": {},
   "outputs": [],
   "source": [
    "plot_confusion_matrix(logistic_regression, X_test, y_test, normalize=\"true\")\n",
    "plt.show()"
   ]
  },
  {
   "cell_type": "code",
   "execution_count": null,
   "id": "banned-graphic",
   "metadata": {},
   "outputs": [],
   "source": [
    "logistic_regression.best_params_"
   ]
  },
  {
   "cell_type": "markdown",
   "id": "latter-payday",
   "metadata": {
    "heading_collapsed": "true",
    "tags": []
   },
   "source": [
    "## Decision Trees"
   ]
  },
  {
   "cell_type": "code",
   "execution_count": null,
   "id": "pending-karma",
   "metadata": {},
   "outputs": [],
   "source": [
    "pipeline = Pipeline(\n",
    "    steps=[\n",
    "        (\"preprocessor\", preprocessor),\n",
    "        (\"model\", DecisionTreeClassifier())\n",
    "    ]\n",
    ")\n",
    "\n",
    "pipeline.fit(X_train, y_train)"
   ]
  },
  {
   "cell_type": "code",
   "execution_count": null,
   "id": "native-chapter",
   "metadata": {},
   "outputs": [],
   "source": [
    "print_auc(pipeline)"
   ]
  },
  {
   "cell_type": "markdown",
   "id": "instructional-controversy",
   "metadata": {},
   "source": [
    "### Hyperparameter optimization"
   ]
  },
  {
   "cell_type": "code",
   "execution_count": null,
   "id": "pressing-leave",
   "metadata": {
    "tags": []
   },
   "outputs": [],
   "source": [
    "pipeline = Pipeline(\n",
    "    steps=[\n",
    "        (\"preprocessor\", preprocessor),\n",
    "        (\"model\", DecisionTreeClassifier())\n",
    "    ]\n",
    ")\n",
    "\n",
    "hyperparameters = {\n",
    "    \"model__max_depth\": [5, 10, 50],\n",
    "    \"model__min_samples_split\": [5, 10, 50],\n",
    "    \"model__class_weight\": [\"balanced\", None]\n",
    "}\n",
    "\n",
    "gridsearch = GridSearchCV(pipeline, hyperparameters, scoring=\"roc_auc\", cv=3, verbose=0, n_jobs=-1)\n",
    "\n",
    "tree_classifier = gridsearch.fit(X_train, y_train)"
   ]
  },
  {
   "cell_type": "code",
   "execution_count": null,
   "id": "cross-privilege",
   "metadata": {
    "tags": []
   },
   "outputs": [],
   "source": [
    "tree_classifier.best_estimator_.get_params()"
   ]
  },
  {
   "cell_type": "code",
   "execution_count": null,
   "id": "realistic-psychiatry",
   "metadata": {},
   "outputs": [],
   "source": [
    "print_auc(tree_classifier)"
   ]
  },
  {
   "cell_type": "markdown",
   "id": "random-wagon",
   "metadata": {
    "heading_collapsed": "true",
    "tags": []
   },
   "source": [
    "## SGD"
   ]
  },
  {
   "cell_type": "code",
   "execution_count": null,
   "id": "gothic-french",
   "metadata": {},
   "outputs": [],
   "source": [
    "pipeline = Pipeline(\n",
    "    steps=[\n",
    "        (\"preprocessor\", preprocessor),\n",
    "        (\"model\", SGDClassifier())\n",
    "    ]\n",
    ")\n",
    "\n",
    "pipeline.fit(X_train, y_train)"
   ]
  },
  {
   "cell_type": "code",
   "execution_count": null,
   "id": "revolutionary-vancouver",
   "metadata": {},
   "outputs": [],
   "source": [
    "print_auc(pipeline)"
   ]
  },
  {
   "cell_type": "markdown",
   "id": "aging-society",
   "metadata": {},
   "source": [
    "### Hyperparameter optimization"
   ]
  },
  {
   "cell_type": "code",
   "execution_count": null,
   "id": "surprised-programmer",
   "metadata": {
    "tags": []
   },
   "outputs": [],
   "source": [
    "pipeline = Pipeline(\n",
    "    steps=[\n",
    "        (\"preprocessor\", preprocessor),\n",
    "        (\"model\", SGDClassifier())\n",
    "    ]\n",
    ")\n",
    "\n",
    "hyperparameters = {\n",
    "    \"model__loss\": [\"hinge\", \"log\"],\n",
    "    \"model__penalty\": [\"l2\", \"l1\"],\n",
    "    \"model__alpha\": [0.0001, 0.001, 0.01, 0.1, 0.5, 1, 5, 10],\n",
    "    \"model__class_weight\": [\"balanced\", None]\n",
    "}\n",
    "\n",
    "gridsearch = GridSearchCV(pipeline, hyperparameters, scoring=\"roc_auc\", cv=3, verbose=0, n_jobs=-1)\n",
    "\n",
    "sgd = gridsearch.fit(X_train, y_train)"
   ]
  },
  {
   "cell_type": "code",
   "execution_count": null,
   "id": "healthy-waste",
   "metadata": {
    "tags": []
   },
   "outputs": [],
   "source": [
    "sgd.best_estimator_.get_params()"
   ]
  },
  {
   "cell_type": "code",
   "execution_count": null,
   "id": "private-guyana",
   "metadata": {},
   "outputs": [],
   "source": [
    "print_auc(sgd)"
   ]
  },
  {
   "cell_type": "markdown",
   "id": "turned-arnold",
   "metadata": {},
   "source": [
    "## Neural Networks"
   ]
  },
  {
   "cell_type": "markdown",
   "id": "adult-retreat",
   "metadata": {},
   "source": [
    "### Pipeline without model"
   ]
  },
  {
   "cell_type": "code",
   "execution_count": 9,
   "id": "conservative-popularity",
   "metadata": {},
   "outputs": [],
   "source": [
    "val_size = int(len(X_train) * 0.66)\n",
    "X_val = X_train[-val_size:]\n",
    "X_train = X_train[:-val_size]\n",
    "y_val = y_train[-val_size:]\n",
    "y_train = y_train[:-val_size]\n",
    "\n",
    "X_train = preprocessor.fit_transform(X_train)\n",
    "X_val = preprocessor.transform(X_val)\n",
    "X_test = preprocessor.transform(X_test)"
   ]
  },
  {
   "cell_type": "code",
   "execution_count": 24,
   "id": "wireless-potential",
   "metadata": {},
   "outputs": [
    {
     "name": "stdout",
     "output_type": "stream",
     "text": [
      "Epoch 1/7\n",
      "2232/2232 [==============================] - 8s 3ms/step - loss: 0.3838 - auc: 0.8659 - val_loss: 0.3608 - val_auc: 0.8835\n",
      "Epoch 2/7\n",
      "2232/2232 [==============================] - 6s 3ms/step - loss: 0.3589 - auc: 0.8856 - val_loss: 0.3569 - val_auc: 0.8856\n",
      "Epoch 3/7\n",
      "2232/2232 [==============================] - 8s 4ms/step - loss: 0.3512 - auc: 0.8908 - val_loss: 0.3566 - val_auc: 0.8854\n",
      "Epoch 4/7\n",
      "2232/2232 [==============================] - 7s 3ms/step - loss: 0.3433 - auc: 0.8951 - val_loss: 0.3565 - val_auc: 0.8861\n",
      "Epoch 5/7\n",
      "2232/2232 [==============================] - 7s 3ms/step - loss: 0.3415 - auc: 0.8971 - val_loss: 0.3596 - val_auc: 0.8851\n",
      "Epoch 6/7\n",
      "2232/2232 [==============================] - 6s 3ms/step - loss: 0.3346 - auc: 0.9025 - val_loss: 0.3587 - val_auc: 0.8853\n",
      "Epoch 7/7\n",
      "2232/2232 [==============================] - 6s 3ms/step - loss: 0.3323 - auc: 0.9032 - val_loss: 0.3614 - val_auc: 0.8840\n"
     ]
    }
   ],
   "source": [
    "model = keras.Sequential(\n",
    "        [\n",
    "            layers.Dense(50, activation=\"relu\", input_shape=(X_train.shape[1],)),\n",
    "            layers.Dense(units=1, activation=\"sigmoid\")\n",
    "        ]\n",
    ")\n",
    "\n",
    "model.compile(\n",
    "    loss=\"binary_crossentropy\", \n",
    "    optimizer=\"adam\", \n",
    "    metrics=[\"AUC\"]\n",
    ")\n",
    "\n",
    "history = model.fit(X_train, y_train, epochs=5, verbose=1, validation_data=(X_val, y_val))"
   ]
  },
  {
   "cell_type": "code",
   "execution_count": 25,
   "id": "imperial-plymouth",
   "metadata": {},
   "outputs": [
    {
     "data": {
      "image/png": "[encoded data removed]",
      "text/plain": [
       "<Figure size 432x288 with 1 Axes>"
      ]
     },
     "metadata": {},
     "output_type": "display_data"
    }
   ],
   "source": [
    "plt.plot(history.history['auc'], label=\"training_auc\")\n",
    "plt.plot(history.history['val_auc'], label=\"val_auc\")\n",
    "plt.ylabel('AUC')\n",
    "plt.xlabel('Epoch')\n",
    "plt.legend()\n",
    "plt.show()"
   ]
  },
  {
   "cell_type": "code",
   "execution_count": 26,
   "id": "advisory-venice",
   "metadata": {},
   "outputs": [],
   "source": [
    "#y_test_pred_proba = pipeline.predict(X_test)\n",
    "y_test_pred_classes = np.where(model.predict(X_test) > 0.5, 1, 0)"
   ]
  },
  {
   "cell_type": "code",
   "execution_count": 27,
   "id": "balanced-studio",
   "metadata": {},
   "outputs": [
    {
     "name": "stdout",
     "output_type": "stream",
     "text": [
      "Test AUC: 0.7811717072310015\n"
     ]
    }
   ],
   "source": [
    "fpr, tpr, threshold = roc_curve(y_test, y_test_pred_classes)\n",
    "roc_auc = auc(fpr, tpr)\n",
    "print(\"Test AUC:\", roc_auc)"
   ]
  },
  {
   "cell_type": "markdown",
   "id": "mental-group",
   "metadata": {
    "tags": []
   },
   "source": [
    "# Submission"
   ]
  },
  {
   "cell_type": "code",
   "execution_count": 23,
   "id": "stuffed-terrorism",
   "metadata": {},
   "outputs": [],
   "source": [
    "df_test = pd.read_csv(\"../data/test.csv\")\n",
    "\n",
    "submission_id = df_test[\"id\"]\n",
    "df_test = df_test.drop(columns=\"id\")\n",
    "\n",
    "df_test = preprocessor.transform(df_test)\n",
    "\n",
    "\n",
    "#submission_y = pipeline.predict_proba(df_test)[:, 1]\n",
    "submission_y = model.predict(df_test)\n",
    "\n",
    "submission = pd.DataFrame()\n",
    "submission[\"id\"] = submission_id\n",
    "submission[\"target\"] = submission_y\n",
    "submission.to_csv(f\"../submissions/submission_{timestamp()}.csv\", index=False)"
   ]
  }
 ],
 "metadata": {
  "kernelspec": {
   "display_name": "Python 3",
   "language": "python",
   "name": "python3"
  },
  "language_info": {
   "codemirror_mode": {
    "name": "ipython",
    "version": 3
   },
   "file_extension": ".py",
   "mimetype": "text/x-python",
   "name": "python",
   "nbconvert_exporter": "python",
   "pygments_lexer": "ipython3",
   "version": "3.8.8"
  },
  "toc-autonumbering": false,
  "toc-showcode": false,
  "toc-showmarkdowntxt": false,
  "toc-showtags": false
 },
 "nbformat": 4,
 "nbformat_minor": 5
}
